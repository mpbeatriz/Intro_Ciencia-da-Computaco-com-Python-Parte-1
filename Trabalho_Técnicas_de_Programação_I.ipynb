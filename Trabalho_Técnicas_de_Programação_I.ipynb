{
  "nbformat": 4,
  "nbformat_minor": 0,
  "metadata": {
    "colab": {
      "provenance": [],
      "include_colab_link": true
    },
    "kernelspec": {
      "name": "python3",
      "display_name": "Python 3"
    },
    "language_info": {
      "name": "python"
    }
  },
  "cells": [
    {
      "cell_type": "markdown",
      "metadata": {
        "id": "view-in-github",
        "colab_type": "text"
      },
      "source": [
        "<a href=\"https://colab.research.google.com/github/mpbeatriz/Intro_Ciencia_da_Computacao_com_Python_Parte_1/blob/main/Trabalho_T%C3%A9cnicas_de_Programa%C3%A7%C3%A3o_I.ipynb\" target=\"_parent\"><img src=\"https://colab.research.google.com/assets/colab-badge.svg\" alt=\"Open In Colab\"/></a>"
      ]
    },
    {
      "cell_type": "code",
      "execution_count": null,
      "metadata": {
        "id": "NlhsB4_GAfR_"
      },
      "outputs": [],
      "source": []
    },
    {
      "cell_type": "markdown",
      "source": [
        "Projeto Técnicas de Programação I\n",
        "\n",
        "Descrição\n",
        "\n",
        "Este notebook contém a descrição do projeto prático do módulo: Técnicas de programação I. Neste projeto aplicaremos as técnicas aprendidas em aula para criarmos uma análise exploratória sobre um conjunto de dados.\n",
        "\n",
        "Objetivo\n",
        "\n",
        "Realizar uma análise exploratória de dados utilizando datasets relacionados ao Brasil. Estruture sua análise criando um storytelling: Uma história contada com informações, gráficos e imagens (opcional) e medidas estatísticas, associando dados a fatos em uma linha do tempo. Você está livre para incluir quantas bases considerar necessário e filtrar as informações mais relevantes para sua história.\n",
        "\n",
        "Dados\n",
        "\n",
        "Esta é uma lista de fontes que vocês podem utilizar. Você está livre para utilizar esta e outras fontes de dados, desde que haja uma concordância prévia com o professor.\n",
        "\n",
        "Fontes de dados sugeridas:\n",
        "\n",
        "Covid19br (https://github.com/wcota/covid19br/)\n",
        "\n",
        "Agência Nacional de Petróleo e Gás (https://bit.ly/3hf8rbZ)\n",
        "\n",
        "DataSUS (ftp.datasus.gov.br)*\n",
        "\n",
        "Dados.gov.br (https://bit.ly/3fPA1MO)\n",
        "\n",
        "Kaggle (https://www.kaggle.com/)\n",
        "\n",
        "*Obs: pode ser acessado por um cliente FTP (Ex.: Filezilla)\n",
        "\n",
        "\n",
        "\n",
        "Organização e entregáveis\n",
        "\n",
        "O projeto completo (Notebook, código-fonte, link para fontes, bases e demais artefatos) deve ser publicado conforme instruções do LMS.\n",
        "\n",
        "Critérios de avaliação\n",
        "\n",
        "A avaliação será feita com base nos artefatos entregues e na sua apresentação.\n",
        "A estrutura abaixo lista sugestões do que pode conter no seu trabalho.\n",
        "\n",
        "Apresentação da análise\n",
        "\n",
        "Storytelling;\n",
        "\n",
        "Insights (padrões que descrevam os elementos da base);\n",
        "\n",
        "Descrição do problema;\n",
        "\n",
        "Proposta de solução;\n",
        "\n",
        "Entregáveis\n",
        "\n",
        "Relatório com análise exploratória de dados;\n",
        "\n",
        "Descrição das variáveis (Dados faltantes, tipos de dados, informações relacionadas e fontes);\n",
        "\n",
        "Limpeza da base\n",
        "\n",
        "Análise Univariada e Multivariada\n",
        "\n",
        "Medidas estatísticas;\n",
        "\n",
        "Comparações;\n",
        "\n",
        "Tendências de crescimento ou queda;\n",
        "\n",
        "Gráficos (opcional)\n",
        "\n",
        "Critérios:\n",
        "\n",
        "\n",
        "Análise (O nível de exploração dos dados, quantidade de bases e variáveis);\n",
        "\n",
        "Reprodutibilidade (O código será executado e o resultados precisam ser reproduzidos);\n",
        "\n",
        "Comunicação (Explique o problema e como a equipe explorou os dados);\n",
        "\n",
        "Tempo de apresentação: A depender da quantidade de grupos. (Aproximadamente de 15 ~ 20 minutos)"
      ],
      "metadata": {
        "id": "TI-_2aYsAsyX"
      }
    }
  ]
}